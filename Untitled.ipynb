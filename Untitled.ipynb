{
 "cells": [
  {
   "cell_type": "code",
   "execution_count": 26,
   "metadata": {},
   "outputs": [],
   "source": [
    "import pickle\n",
    "import tensorflow as tf\n",
    "import re\n",
    "import werkzeug "
   ]
  },
  {
   "cell_type": "code",
   "execution_count": 4,
   "metadata": {},
   "outputs": [
    {
     "name": "stdout",
     "output_type": "stream",
     "text": [
      "<_io.BufferedReader name='leEnc.pkl'>\n",
      "<_io.BufferedReader name='tvEnc.pkl'>\n",
      "<_io.BufferedReader name='stop_words.pkl'>\n",
      "<_io.BufferedReader name='stemmer.pkl'>\n",
      "<_io.BufferedReader name='lemmatizer.pkl'>\n"
     ]
    }
   ],
   "source": [
    "with open('leEnc.pkl', 'rb') as file: \n",
    "    print(file)\n",
    "    leEnc = pickle.load(file)\n",
    "    \n",
    "with open('tvEnc.pkl', 'rb') as file: \n",
    "    print(file)\n",
    "    tvEnc = pickle.load(file)\n",
    "    \n",
    "with open('stop_words.pkl', 'rb') as file: \n",
    "    print(file)\n",
    "    stop_words = pickle.load(file)\n",
    "    \n",
    "with open('stemmer.pkl', 'rb') as file: \n",
    "    print(file)\n",
    "    stemmer = pickle.load(file)\n",
    "    \n",
    "    \n",
    "with open('lemmatizer.pkl', 'rb') as file: \n",
    "    print(file)\n",
    "    lemmatizer = pickle.load(file)"
   ]
  },
  {
   "cell_type": "code",
   "execution_count": 6,
   "metadata": {},
   "outputs": [],
   "source": [
    "def preprocess(text):\n",
    "    text = text.lower()\n",
    "    text = re.sub('[^a-zA-Z ]','',text)\n",
    "    # removing stop words\n",
    "    wordsList = text.split()\n",
    "    newWordsList = []\n",
    "    for word in wordsList:\n",
    "        if word  not in stop_words: # remove stop words\n",
    "            word = stemmer.stem(word) #using porter stemmer\n",
    "            word = lemmatizer.lemmatize(word)\n",
    "            newWordsList.append(word)\n",
    "            \n",
    "    return \" \".join(newWordsList)"
   ]
  },
  {
   "cell_type": "code",
   "execution_count": 11,
   "metadata": {},
   "outputs": [
    {
     "name": "stdout",
     "output_type": "stream",
     "text": [
      "<_io.BufferedReader name='classModel'>\n"
     ]
    },
    {
     "name": "stderr",
     "output_type": "stream",
     "text": [
      "C:\\Users\\daisycharlie\\Anaconda3\\envs\\tf2\\lib\\site-packages\\sklearn\\base.py:318: UserWarning: Trying to unpickle estimator MultinomialNB from version 0.21.3 when using version 0.22.1. This might lead to breaking code or invalid results. Use at your own risk.\n",
      "  UserWarning)\n"
     ]
    }
   ],
   "source": [
    "with open('classModel', 'rb') as file: \n",
    "    print(file)\n",
    "    model = pickle.load(file)"
   ]
  },
  {
   "cell_type": "code",
   "execution_count": 19,
   "metadata": {},
   "outputs": [],
   "source": [
    "sample_data = \"the latest computer techonology was introduced bysamsung\"\n",
    "preData = preprocess(sample_data)\n",
    "finalSample = tvEnc.transform([preData])"
   ]
  },
  {
   "cell_type": "code",
   "execution_count": 20,
   "metadata": {},
   "outputs": [],
   "source": [
    "result =model.predict(finalSample)\n",
    "resClass = leEnc.inverse_transform(result)"
   ]
  },
  {
   "cell_type": "code",
   "execution_count": 21,
   "metadata": {},
   "outputs": [
    {
     "data": {
      "text/plain": [
       "array([4], dtype=int64)"
      ]
     },
     "execution_count": 21,
     "metadata": {},
     "output_type": "execute_result"
    }
   ],
   "source": [
    "result"
   ]
  },
  {
   "cell_type": "code",
   "execution_count": 17,
   "metadata": {},
   "outputs": [
    {
     "data": {
      "text/plain": [
       "TfidfVectorizer(analyzer='word', binary=False, decode_error='strict',\n",
       "                dtype=<class 'numpy.float64'>, encoding='utf-8',\n",
       "                input='content', lowercase=True, max_df=1.0, max_features=None,\n",
       "                min_df=1, ngram_range=(1, 1), norm='l2', preprocessor=None,\n",
       "                smooth_idf=True, stop_words=None, strip_accents=None,\n",
       "                sublinear_tf=False, token_pattern='(?u)\\\\b\\\\w\\\\w+\\\\b',\n",
       "                tokenizer=None, use_idf=True, vocabulary=None)"
      ]
     },
     "execution_count": 17,
     "metadata": {},
     "output_type": "execute_result"
    }
   ],
   "source": [
    "leEnc"
   ]
  },
  {
   "cell_type": "code",
   "execution_count": null,
   "metadata": {},
   "outputs": [],
   "source": []
  }
 ],
 "metadata": {
  "kernelspec": {
   "display_name": "Python 3",
   "language": "python",
   "name": "python3"
  },
  "language_info": {
   "codemirror_mode": {
    "name": "ipython",
    "version": 3
   },
   "file_extension": ".py",
   "mimetype": "text/x-python",
   "name": "python",
   "nbconvert_exporter": "python",
   "pygments_lexer": "ipython3",
   "version": "3.7.6"
  }
 },
 "nbformat": 4,
 "nbformat_minor": 4
}
